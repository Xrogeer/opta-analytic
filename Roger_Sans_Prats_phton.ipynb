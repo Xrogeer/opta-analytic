{
 "cells": [
  {
   "cell_type": "markdown",
   "id": "e744ddd5-5aa7-426e-8534-26de80881977",
   "metadata": {
    "id": "e744ddd5-5aa7-426e-8534-26de80881977",
    "tags": []
   },
   "source": [
    "# Analisis de un fichero OPTA\n",
    "\n",
    "En este análisis, vamos a utilizar un fichero de OPTA  correspondiente a la temporada **2020-2021 de LALIGA**.\n",
    "\n",
    "## Contenido del análisis\n",
    "\n",
    " - **Ranking de goleadores** .  \n",
    " - **Ranking de equipos con más tarjetas**.\n",
    " - **Goles por posición** \n",
    " - **Tarjetas por posición**s \n",
    " - **Goles de Karim Benzema y Lionel Messi**.\n",
    " - **Atlético de Madrid – Cádiz CF  de fecha 31-enero-2021**. (\n",
    " \n",
    "\n"
   ]
  },
  {
   "cell_type": "code",
   "execution_count": 2,
   "id": "13ac082a-d19e-46ad-84cc-421f792396cf",
   "metadata": {
    "id": "13ac082a-d19e-46ad-84cc-421f792396cf"
   },
   "outputs": [],
   "source": [
    "def pintar_campo(color_campo):\n",
    "    \"\"\"\n",
    "    Dibuja un campo de fútbol utilizando Matplotlib.\n",
    "\n",
    "    Arguments:\n",
    "        color_campo (str): Color de las líneas del campo. Debe ser un valor válido de Matplotlib,\n",
    "            como un nombre de color ('black', 'white', etc.) o un código hexadecimal ('#FFFFFF').\n",
    "\n",
    "    Returns:\n",
    "        matplotlib.axes._axes.Axes: Objeto de ejes con el campo de fútbol dibujado.\n",
    "\n",
    "    Raises:\n",
    "        Exception: Si el color proporcionado no es válido para Matplotlib.\n",
    "    \"\"\"\n",
    "    ax = plt.axes()\n",
    "    bottom, width, lenght = 0., 100, 100\n",
    "\n",
    "    pitch_width, pitch_length = 68., 105\n",
    "\n",
    "    goal_width, goal_length, goal_bottom, goal_top = 10.76, 1.9, 44.62, 55.38\n",
    "\n",
    "    six_yard_width, six_yard_length, six_yard_left = 26.4, 5.8, 5.8\n",
    "    six_yard_right, six_yard_bottom, six_yard_top = 94.2, 36.8, 63.2\n",
    "\n",
    "    penalty_left, penalty_right = 11.5, 88.5\n",
    "    penalty_area_width, penalty_area_length, penalty_area_left = 57.8, 17.0, 17.0\n",
    "    penalty_area_right, penalty_area_bottom, penalty_area_top = 83.0, 21.1, 78.9\n",
    "\n",
    "    center_width, center_length, circle_diameter = 50.0, 50, 17.68\n",
    "\n",
    "    coord_x = [\n",
    "        center_length, center_length, width, width,\n",
    "        penalty_area_right, penalty_area_right, width,\n",
    "        width, six_yard_right, six_yard_right, width,\n",
    "        width, bottom, bottom, penalty_area_left,\n",
    "        penalty_area_left, bottom, bottom, six_yard_left,\n",
    "        six_yard_left, bottom, bottom, center_length,\n",
    "    ]\n",
    "    coord_y = [\n",
    "        bottom, lenght, lenght, penalty_area_bottom,\n",
    "        penalty_area_bottom, penalty_area_top, penalty_area_top,\n",
    "        six_yard_bottom, six_yard_bottom, six_yard_top,\n",
    "        six_yard_top, bottom, bottom, penalty_area_top,\n",
    "        penalty_area_top, penalty_area_bottom, penalty_area_bottom,\n",
    "        six_yard_top, six_yard_top, six_yard_bottom,\n",
    "        six_yard_bottom, lenght, lenght,\n",
    "    ]\n",
    "\n",
    "    plt.plot(coord_x, coord_y, color_campo)\n",
    "    circulo_central = plt.Circle((50, 50), radius=10, fill=False, color=color_campo)\n",
    "    ax.add_patch(circulo_central)\n",
    "\n",
    "    circulo_central = plt.Circle((50, 50), radius=0.5, fill=True, color=color_campo)\n",
    "    ax.add_patch(circulo_central)\n",
    "\n",
    "    punto_penalti1 = plt.Circle((11, 50), radius=0.5, fill=True, color=color_campo)\n",
    "    ax.add_patch(punto_penalti1)\n",
    "\n",
    "    punto_penalti2 = plt.Circle((89, 50), radius=0.5, fill=True, color=color_campo)\n",
    "    ax.add_patch(punto_penalti2)\n",
    "\n",
    "    arq_izq = Arc((11, 50), 20, 20, theta1=310, theta2=50, color=color_campo)\n",
    "    arq_dcho = Arc((89, 50), 20, 20, theta1=130, theta2=230, color=color_campo)\n",
    "    ax.add_patch(arq_izq)\n",
    "    ax.add_patch(arq_dcho)\n",
    "\n",
    "    plt.plot(coord_x, coord_y, color_campo)\n",
    "    return ax\n"
   ]
  },
  {
   "cell_type": "markdown",
   "id": "VtdAvCVOj5xi",
   "metadata": {
    "id": "VtdAvCVOj5xi"
   },
   "source": [
    "# Importa las librerías y el fichero.\n"
   ]
  },
  {
   "cell_type": "code",
   "execution_count": 5,
   "id": "uEDk6E5aC0OP",
   "metadata": {
    "id": "uEDk6E5aC0OP"
   },
   "outputs": [],
   "source": [
    "import os\n",
    "import json\n",
    "import matplotlib.pyplot as plt\n",
    "import numpy as np\n",
    "import pandas as pd\n",
    "import seaborn as sns \n",
    "from matplotlib.patches import Arc, Circle"
   ]
  },
  {
   "cell_type": "code",
   "execution_count": 7,
   "id": "SqriGWQ8DxZh",
   "metadata": {
    "id": "SqriGWQ8DxZh"
   },
   "outputs": [],
   "source": [
    "df = pd.read_csv(\"eventos_2020_2021.csv\")"
   ]
  },
  {
   "cell_type": "markdown",
   "id": "81087bb2-f459-4c55-94f1-1a9c54ad4cc7",
   "metadata": {
    "id": "81087bb2-f459-4c55-94f1-1a9c54ad4cc7"
   },
   "source": [
    "# 1. Ranking de goles\n",
    "El ranking de goles es el listado de mayor a menor del total de goles marcados por cada jugador"
   ]
  },
  {
   "cell_type": "code",
   "execution_count": 10,
   "id": "G05chSonCKmS",
   "metadata": {
    "colab": {
     "base_uri": "https://localhost:8080/"
    },
    "id": "G05chSonCKmS",
    "outputId": "68cbe88d-d2ce-4e11-97ca-7ad71058dcf5"
   },
   "outputs": [
    {
     "data": {
      "text/plain": [
       "player\n",
       "Lionel Messi         30\n",
       "Luis Suárez          26\n",
       "Karim Benzema        23\n",
       "Gerard Moreno        23\n",
       "Youssef En-Nesyri    18\n",
       "                     ..\n",
       "Bruno González        1\n",
       "Stefan Savic          1\n",
       "Rubén Sobrino         1\n",
       "Sergio Postigo        1\n",
       "Denis Vavro           1\n",
       "Name: count, Length: 273, dtype: int64"
      ]
     },
     "execution_count": 10,
     "metadata": {},
     "output_type": "execute_result"
    }
   ],
   "source": [
    "uno= df[['type_id','player']]\n",
    "mask1= (\n",
    "    (df['type_id']==16)\n",
    ")\n",
    "df_ranking= uno[mask1]\n",
    "\n",
    "df_ranking.loc[df['player'].duplicated(), \"player\"].value_counts()"
   ]
  },
  {
   "cell_type": "markdown",
   "id": "adf44826-59aa-4693-ae23-1d533b927cee",
   "metadata": {
    "id": "adf44826-59aa-4693-ae23-1d533b927cee",
    "tags": []
   },
   "source": [
    "# 2. Ranking de tarjetas por equipos\n",
    "El ranking de tarjetas es el listado de mayor a menor del total de tarjetas que tiene cada equipo"
   ]
  },
  {
   "cell_type": "code",
   "execution_count": 13,
   "id": "wx8eWnEdlpmX",
   "metadata": {
    "colab": {
     "base_uri": "https://localhost:8080/"
    },
    "id": "wx8eWnEdlpmX",
    "outputId": "230a2ea6-f8a4-4e38-9265-81065c642a6f"
   },
   "outputs": [
    {
     "data": {
      "text/plain": [
       "team\n",
       "Getafe                126\n",
       "Celta de Vigo         107\n",
       "Granada CF            103\n",
       "Atletico de Madrid     98\n",
       "Alaves                 96\n",
       "Real Valladolid        95\n",
       "Real Betis             95\n",
       "Elche CF               93\n",
       "Athletic Club          85\n",
       "Real Sociedad          82\n",
       "Valencia CF            82\n",
       "Cadiz CF               82\n",
       "C.A. Osasuna           82\n",
       "Sevilla                79\n",
       "Barcelona              72\n",
       "Villarreal             71\n",
       "Levante                70\n",
       "Huesca                 69\n",
       "Eibar                  67\n",
       "Real Madrid            60\n",
       "Name: count, dtype: int64"
      ]
     },
     "execution_count": 13,
     "metadata": {},
     "output_type": "execute_result"
    }
   ],
   "source": [
    "dos= df[['type_id','team']]\n",
    "mask2= (\n",
    "    (df['type_id']==17)\n",
    ")\n",
    "df_tarjetas= dos[mask2]\n",
    "\n",
    "df_tarjetas.loc[df['team'].duplicated(), \"team\"].value_counts()"
   ]
  },
  {
   "cell_type": "markdown",
   "id": "0c6a558c-e055-4f14-9b2d-1821c881afe2",
   "metadata": {
    "collapsed": true,
    "id": "0c6a558c-e055-4f14-9b2d-1821c881afe2",
    "jupyter": {
     "outputs_hidden": true
    }
   },
   "source": [
    "# 3. **Diagrama de barras** goles marcados por posición. "
   ]
  },
  {
   "cell_type": "code",
   "execution_count": 16,
   "id": "WX45TfSEmZ7C",
   "metadata": {
    "colab": {
     "base_uri": "https://localhost:8080/",
     "height": 372
    },
    "id": "WX45TfSEmZ7C",
    "outputId": "43483811-0e69-4bd7-a7d8-6ef81187cd25"
   },
   "outputs": [
    {
     "name": "stderr",
     "output_type": "stream",
     "text": [
      "/Users/rogersans/anaconda3/lib/python3.11/site-packages/seaborn/axisgrid.py:118: UserWarning: The figure layout has changed to tight\n",
      "  self._figure.tight_layout(*args, **kwargs)\n"
     ]
    },
    {
     "data": {
      "image/png": "[encoded data removed]",
      "text/plain": [
       "<Figure size 1500x500 with 1 Axes>"
      ]
     },
     "metadata": {},
     "output_type": "display_data"
    }
   ],
   "source": [
    "tres= df[['type_id','real_position']]\n",
    "mask3= (\n",
    "    (df['type_id']==16)\n",
    ")\n",
    "df_real_position_goals= tres[mask3]\n",
    "\n",
    "sns_plot = sns.catplot(x='real_position', data= df_real_position_goals, kind=\"count\", height=5,\n",
    "                          aspect=3, edgecolor='black');\n",
    "\n",
    "positionList = ['STR','DMF','CDF','WNG',\n",
    "             'CMF','FB','AMF','SSTR',\n",
    "             'GK','WGB','UNK']\n",
    "\n",
    "sns_plot.set_xticklabels(positionList)\n",
    "sns_plot.fig.suptitle(\"Número de goles por posición\")\n",
    "sns_plot.set_ylabels(\"Número de goles\")\n",
    "sns_plot.set_xlabels(\"Posición\")\n",
    "\n",
    "ax = plt.gca()\n",
    "\n",
    "for p in ax.patches:\n",
    "    ax.text(p.get_x() + p.get_width()/2., p.get_height(),\n",
    "            '{0}'.format(int(p.get_height())),\n",
    "            fontsize=10, color='black', ha='center', va='bottom')\n",
    "plt.show()"
   ]
  },
  {
   "cell_type": "markdown",
   "id": "f0b29466-2dae-4c14-a932-255599fae824",
   "metadata": {
    "id": "f0b29466-2dae-4c14-a932-255599fae824"
   },
   "source": [
    "# 4. **Gráfico de barras** número de tarjetas por posición. "
   ]
  },
  {
   "cell_type": "code",
   "execution_count": 19,
   "id": "ZkFomt5Mxu-F",
   "metadata": {
    "colab": {
     "base_uri": "https://localhost:8080/",
     "height": 372
    },
    "id": "ZkFomt5Mxu-F",
    "outputId": "bf3f733e-7b30-4349-cf10-9090897ee5f5"
   },
   "outputs": [
    {
     "name": "stderr",
     "output_type": "stream",
     "text": [
      "/Users/rogersans/anaconda3/lib/python3.11/site-packages/seaborn/axisgrid.py:118: UserWarning: The figure layout has changed to tight\n",
      "  self._figure.tight_layout(*args, **kwargs)\n"
     ]
    },
    {
     "data": {
      "image/png": "[encoded data removed]",
      "text/plain": [
       "<Figure size 1500x500 with 1 Axes>"
      ]
     },
     "metadata": {},
     "output_type": "display_data"
    }
   ],
   "source": [
    "cuatro= df[['type_id','real_position']]\n",
    "mask4= (\n",
    "    (df['type_id']==17)\n",
    ")\n",
    "df_real_position_cards= cuatro[mask4]\n",
    "\n",
    "sns_plot = sns.catplot(x='real_position', data= df_real_position_cards, kind=\"count\", height=5,\n",
    "                          aspect=3, edgecolor='black');\n",
    "\n",
    "positionList = ['STR','DMF','CDF','GK',\n",
    "             'WNG','CMF','FB','AMF',\n",
    "             'WGB','SSTR','UNK']\n",
    "\n",
    "sns_plot.set_xticklabels(positionList)\n",
    "sns_plot.fig.suptitle(\"Número de tarjetas por posición\")\n",
    "sns_plot.set_ylabels(\"Número de tarjetas\")\n",
    "sns_plot.set_xlabels(\"Posición\")\n",
    "\n",
    "ax = plt.gca()\n",
    "\n",
    "for p in ax.patches:\n",
    "    ax.text(p.get_x() + p.get_width()/2., p.get_height(),\n",
    "            '{0}'.format(int(p.get_height())),\n",
    "            fontsize=10, color='black', ha='center', va='bottom')\n",
    "plt.show()"
   ]
  },
  {
   "cell_type": "markdown",
   "id": "fd44d773-d09c-49e1-96b8-ff54ad67d366",
   "metadata": {
    "id": "fd44d773-d09c-49e1-96b8-ff54ad67d366"
   },
   "source": [
    "# 5. Representación en campo de los **goles de la temporada Karim Benzema y Lionel Messi**."
   ]
  },
  {
   "cell_type": "code",
   "execution_count": 22,
   "id": "guLDUcxnrDcM",
   "metadata": {
    "id": "guLDUcxnrDcM"
   },
   "outputs": [],
   "source": [
    "mask5= (\n",
    "    (df['type_id']==16)\n",
    ")\n",
    "df_5= df[mask5]\n",
    "\n",
    "df_messi = df_5[df_5['player']== 'Lionel Messi'].copy()\n",
    "df_benzema = df_5[df_5['player']== 'Karim Benzema'].copy()"
   ]
  },
  {
   "cell_type": "code",
   "execution_count": 24,
   "id": "f3RqLyTUxph_",
   "metadata": {
    "colab": {
     "base_uri": "https://localhost:8080/",
     "height": 317
    },
    "id": "f3RqLyTUxph_",
    "outputId": "82a5d233-c96b-4685-b0ba-d3f79c970ee5"
   },
   "outputs": [
    {
     "data": {
      "text/plain": [
       "<Axes: title={'center': 'Goles de Messi y Benzema'}, xlabel='x', ylabel='y'>"
      ]
     },
     "execution_count": 24,
     "metadata": {},
     "output_type": "execute_result"
    },
    {
     "data": {
      "image/png": "[encoded data removed]",
      "text/plain": [
       "<Figure size 640x480 with 1 Axes>"
      ]
     },
     "metadata": {},
     "output_type": "display_data"
    }
   ],
   "source": [
    "color_campo = '#000000'\n",
    "ax_campo = pintar_campo(color_campo)\n",
    "ax_campo.set_title(\"Goles de Messi y Benzema\",\n",
    "             fontsize=20)\n",
    "\n",
    "df_messi.plot(kind='scatter', x='x', y='y', color='red', ax = ax_campo)\n",
    "df_benzema.plot(kind='scatter', x='x', y='y', color='blue', ax= ax_campo)"
   ]
  },
  {
   "cell_type": "markdown",
   "id": "1cfaca37-9e60-4da2-8c10-4d2eb050e7ec",
   "metadata": {
    "id": "1cfaca37-9e60-4da2-8c10-4d2eb050e7ec"
   },
   "source": [
    "# 6. Partido Atlético de Madrid – Cádiz CF 31-enero-2021. "
   ]
  },
  {
   "cell_type": "code",
   "execution_count": 27,
   "id": "xY05TZHMP3ks",
   "metadata": {
    "colab": {
     "base_uri": "https://localhost:8080/",
     "height": 453
    },
    "id": "xY05TZHMP3ks",
    "outputId": "a84b6c7d-a3d4-425a-db96-a59432011d64"
   },
   "outputs": [
    {
     "name": "stderr",
     "output_type": "stream",
     "text": [
      "/var/folders/5p/fg2fchnj2_d51s_pprx1zmyr0000gn/T/ipykernel_52100/630933250.py:10: UserWarning: Boolean Series key will be reindexed to match DataFrame index.\n",
      "  df_cad_atm= df_1[mask6]\n"
     ]
    },
    {
     "data": {
      "text/html": [
       "<div>\n",
       "<style scoped>\n",
       "    .dataframe tbody tr th:only-of-type {\n",
       "        vertical-align: middle;\n",
       "    }\n",
       "\n",
       "    .dataframe tbody tr th {\n",
       "        vertical-align: top;\n",
       "    }\n",
       "\n",
       "    .dataframe thead th {\n",
       "        text-align: right;\n",
       "    }\n",
       "</style>\n",
       "<table border=\"1\" class=\"dataframe\">\n",
       "  <thead>\n",
       "    <tr style=\"text-align: right;\">\n",
       "      <th></th>\n",
       "      <th>type_id</th>\n",
       "      <th>timestamp</th>\n",
       "      <th>x</th>\n",
       "      <th>y</th>\n",
       "      <th>real_position</th>\n",
       "      <th>player</th>\n",
       "      <th>team</th>\n",
       "      <th>year</th>\n",
       "      <th>month</th>\n",
       "      <th>day</th>\n",
       "    </tr>\n",
       "  </thead>\n",
       "  <tbody>\n",
       "    <tr>\n",
       "      <th>44990</th>\n",
       "      <td>67</td>\n",
       "      <td>2021-01-31T15:25:30.253</td>\n",
       "      <td>75.4</td>\n",
       "      <td>50.6</td>\n",
       "      <td>Striker</td>\n",
       "      <td>Luis Suárez</td>\n",
       "      <td>Atletico de Madrid</td>\n",
       "      <td>2021</td>\n",
       "      <td>1</td>\n",
       "      <td>31</td>\n",
       "    </tr>\n",
       "    <tr>\n",
       "      <th>44991</th>\n",
       "      <td>1</td>\n",
       "      <td>2021-01-31T15:25:30.262</td>\n",
       "      <td>76.4</td>\n",
       "      <td>48.7</td>\n",
       "      <td>Striker</td>\n",
       "      <td>Luis Suárez</td>\n",
       "      <td>Atletico de Madrid</td>\n",
       "      <td>2021</td>\n",
       "      <td>1</td>\n",
       "      <td>31</td>\n",
       "    </tr>\n",
       "    <tr>\n",
       "      <th>44992</th>\n",
       "      <td>1</td>\n",
       "      <td>2021-01-31T15:26:48.440</td>\n",
       "      <td>33.6</td>\n",
       "      <td>4.0</td>\n",
       "      <td>Striker</td>\n",
       "      <td>Luis Suárez</td>\n",
       "      <td>Atletico de Madrid</td>\n",
       "      <td>2021</td>\n",
       "      <td>1</td>\n",
       "      <td>31</td>\n",
       "    </tr>\n",
       "    <tr>\n",
       "      <th>44993</th>\n",
       "      <td>1</td>\n",
       "      <td>2021-01-31T15:26:50.742</td>\n",
       "      <td>35.1</td>\n",
       "      <td>1.3</td>\n",
       "      <td>Striker</td>\n",
       "      <td>Luis Suárez</td>\n",
       "      <td>Atletico de Madrid</td>\n",
       "      <td>2021</td>\n",
       "      <td>1</td>\n",
       "      <td>31</td>\n",
       "    </tr>\n",
       "    <tr>\n",
       "      <th>44994</th>\n",
       "      <td>1</td>\n",
       "      <td>2021-01-31T15:27:09.878</td>\n",
       "      <td>67.0</td>\n",
       "      <td>37.1</td>\n",
       "      <td>Striker</td>\n",
       "      <td>Luis Suárez</td>\n",
       "      <td>Atletico de Madrid</td>\n",
       "      <td>2021</td>\n",
       "      <td>1</td>\n",
       "      <td>31</td>\n",
       "    </tr>\n",
       "    <tr>\n",
       "      <th>...</th>\n",
       "      <td>...</td>\n",
       "      <td>...</td>\n",
       "      <td>...</td>\n",
       "      <td>...</td>\n",
       "      <td>...</td>\n",
       "      <td>...</td>\n",
       "      <td>...</td>\n",
       "      <td>...</td>\n",
       "      <td>...</td>\n",
       "      <td>...</td>\n",
       "    </tr>\n",
       "    <tr>\n",
       "      <th>644613</th>\n",
       "      <td>1</td>\n",
       "      <td>2021-01-31T17:01:08.314</td>\n",
       "      <td>62.7</td>\n",
       "      <td>21.0</td>\n",
       "      <td>Striker</td>\n",
       "      <td>Ivan Saponjic</td>\n",
       "      <td>Cadiz CF</td>\n",
       "      <td>2021</td>\n",
       "      <td>1</td>\n",
       "      <td>31</td>\n",
       "    </tr>\n",
       "    <tr>\n",
       "      <th>644614</th>\n",
       "      <td>1</td>\n",
       "      <td>2021-01-31T17:02:19.330</td>\n",
       "      <td>65.9</td>\n",
       "      <td>41.2</td>\n",
       "      <td>Striker</td>\n",
       "      <td>Ivan Saponjic</td>\n",
       "      <td>Cadiz CF</td>\n",
       "      <td>2021</td>\n",
       "      <td>1</td>\n",
       "      <td>31</td>\n",
       "    </tr>\n",
       "    <tr>\n",
       "      <th>644615</th>\n",
       "      <td>44</td>\n",
       "      <td>2021-01-31T17:02:45.817</td>\n",
       "      <td>87.7</td>\n",
       "      <td>44.6</td>\n",
       "      <td>Striker</td>\n",
       "      <td>Ivan Saponjic</td>\n",
       "      <td>Cadiz CF</td>\n",
       "      <td>2021</td>\n",
       "      <td>1</td>\n",
       "      <td>31</td>\n",
       "    </tr>\n",
       "    <tr>\n",
       "      <th>644616</th>\n",
       "      <td>61</td>\n",
       "      <td>2021-01-31T17:02:45.954</td>\n",
       "      <td>87.6</td>\n",
       "      <td>43.9</td>\n",
       "      <td>Striker</td>\n",
       "      <td>Ivan Saponjic</td>\n",
       "      <td>Cadiz CF</td>\n",
       "      <td>2021</td>\n",
       "      <td>1</td>\n",
       "      <td>31</td>\n",
       "    </tr>\n",
       "    <tr>\n",
       "      <th>644617</th>\n",
       "      <td>50</td>\n",
       "      <td>2021-01-31T17:10:00.078</td>\n",
       "      <td>68.4</td>\n",
       "      <td>46.6</td>\n",
       "      <td>Striker</td>\n",
       "      <td>Ivan Saponjic</td>\n",
       "      <td>Cadiz CF</td>\n",
       "      <td>2021</td>\n",
       "      <td>1</td>\n",
       "      <td>31</td>\n",
       "    </tr>\n",
       "  </tbody>\n",
       "</table>\n",
       "<p>1804 rows × 10 columns</p>\n",
       "</div>"
      ],
      "text/plain": [
       "        type_id                timestamp     x     y real_position  \\\n",
       "44990        67  2021-01-31T15:25:30.253  75.4  50.6       Striker   \n",
       "44991         1  2021-01-31T15:25:30.262  76.4  48.7       Striker   \n",
       "44992         1  2021-01-31T15:26:48.440  33.6   4.0       Striker   \n",
       "44993         1  2021-01-31T15:26:50.742  35.1   1.3       Striker   \n",
       "44994         1  2021-01-31T15:27:09.878  67.0  37.1       Striker   \n",
       "...         ...                      ...   ...   ...           ...   \n",
       "644613        1  2021-01-31T17:01:08.314  62.7  21.0       Striker   \n",
       "644614        1  2021-01-31T17:02:19.330  65.9  41.2       Striker   \n",
       "644615       44  2021-01-31T17:02:45.817  87.7  44.6       Striker   \n",
       "644616       61  2021-01-31T17:02:45.954  87.6  43.9       Striker   \n",
       "644617       50  2021-01-31T17:10:00.078  68.4  46.6       Striker   \n",
       "\n",
       "               player                team  year  month  day  \n",
       "44990     Luis Suárez  Atletico de Madrid  2021      1   31  \n",
       "44991     Luis Suárez  Atletico de Madrid  2021      1   31  \n",
       "44992     Luis Suárez  Atletico de Madrid  2021      1   31  \n",
       "44993     Luis Suárez  Atletico de Madrid  2021      1   31  \n",
       "44994     Luis Suárez  Atletico de Madrid  2021      1   31  \n",
       "...               ...                 ...   ...    ...  ...  \n",
       "644613  Ivan Saponjic            Cadiz CF  2021      1   31  \n",
       "644614  Ivan Saponjic            Cadiz CF  2021      1   31  \n",
       "644615  Ivan Saponjic            Cadiz CF  2021      1   31  \n",
       "644616  Ivan Saponjic            Cadiz CF  2021      1   31  \n",
       "644617  Ivan Saponjic            Cadiz CF  2021      1   31  \n",
       "\n",
       "[1804 rows x 10 columns]"
      ]
     },
     "execution_count": 27,
     "metadata": {},
     "output_type": "execute_result"
    }
   ],
   "source": [
    "lst_cad_atm = ['Cadiz CF','Atletico de Madrid']\n",
    "df_1 = df[df['team'].isin(lst_cad_atm)]\n",
    "\n",
    "mask6= (\n",
    "    (df['year']==2021) &\n",
    "    (df['month']==1) &\n",
    "    (df['day']==31)\n",
    ")\n",
    "\n",
    "df_cad_atm= df_1[mask6]\n",
    "df_cad_atm"
   ]
  },
  {
   "cell_type": "code",
   "execution_count": 29,
   "id": "C_7v7G1sRdDH",
   "metadata": {
    "colab": {
     "base_uri": "https://localhost:8080/"
    },
    "id": "C_7v7G1sRdDH",
    "outputId": "597246dc-7df4-4208-c8ba-f1b8d2bdd1d4"
   },
   "outputs": [
    {
     "name": "stdout",
     "output_type": "stream",
     "text": [
      "(1804, 10)\n"
     ]
    }
   ],
   "source": [
    "print(df_cad_atm.shape)"
   ]
  },
  {
   "cell_type": "markdown",
   "id": "ed1d5976-60d4-4fc6-9c85-faaf8e4c39b8",
   "metadata": {
    "id": "ed1d5976-60d4-4fc6-9c85-faaf8e4c39b8"
   },
   "source": [
    "# 7. Goles del partido "
   ]
  },
  {
   "cell_type": "code",
   "execution_count": 32,
   "id": "gh9RKkOMSEXU",
   "metadata": {
    "colab": {
     "base_uri": "https://localhost:8080/",
     "height": 235
    },
    "id": "gh9RKkOMSEXU",
    "outputId": "c18520a4-65d3-4d35-abe0-340547acd59a"
   },
   "outputs": [
    {
     "data": {
      "text/html": [
       "<div>\n",
       "<style scoped>\n",
       "    .dataframe tbody tr th:only-of-type {\n",
       "        vertical-align: middle;\n",
       "    }\n",
       "\n",
       "    .dataframe tbody tr th {\n",
       "        vertical-align: top;\n",
       "    }\n",
       "\n",
       "    .dataframe thead th {\n",
       "        text-align: right;\n",
       "    }\n",
       "</style>\n",
       "<table border=\"1\" class=\"dataframe\">\n",
       "  <thead>\n",
       "    <tr style=\"text-align: right;\">\n",
       "      <th></th>\n",
       "      <th>type_id</th>\n",
       "      <th>timestamp</th>\n",
       "      <th>x</th>\n",
       "      <th>y</th>\n",
       "      <th>real_position</th>\n",
       "      <th>player</th>\n",
       "      <th>team</th>\n",
       "      <th>year</th>\n",
       "      <th>month</th>\n",
       "      <th>day</th>\n",
       "    </tr>\n",
       "  </thead>\n",
       "  <tbody>\n",
       "    <tr>\n",
       "      <th>45000</th>\n",
       "      <td>16</td>\n",
       "      <td>2021-01-31T15:43:46.086</td>\n",
       "      <td>74.2</td>\n",
       "      <td>57.3</td>\n",
       "      <td>Striker</td>\n",
       "      <td>Luis Suárez</td>\n",
       "      <td>Atletico de Madrid</td>\n",
       "      <td>2021</td>\n",
       "      <td>1</td>\n",
       "      <td>31</td>\n",
       "    </tr>\n",
       "    <tr>\n",
       "      <th>45014</th>\n",
       "      <td>16</td>\n",
       "      <td>2021-01-31T16:28:17.643</td>\n",
       "      <td>88.5</td>\n",
       "      <td>50.0</td>\n",
       "      <td>Striker</td>\n",
       "      <td>Luis Suárez</td>\n",
       "      <td>Atletico de Madrid</td>\n",
       "      <td>2021</td>\n",
       "      <td>1</td>\n",
       "      <td>31</td>\n",
       "    </tr>\n",
       "    <tr>\n",
       "      <th>47574</th>\n",
       "      <td>16</td>\n",
       "      <td>2021-01-31T17:05:55.413</td>\n",
       "      <td>90.5</td>\n",
       "      <td>54.2</td>\n",
       "      <td>Central Midfielder</td>\n",
       "      <td>Jorge Resurrección</td>\n",
       "      <td>Atletico de Madrid</td>\n",
       "      <td>2021</td>\n",
       "      <td>1</td>\n",
       "      <td>31</td>\n",
       "    </tr>\n",
       "    <tr>\n",
       "      <th>100067</th>\n",
       "      <td>16</td>\n",
       "      <td>2021-01-31T16:00:23.295</td>\n",
       "      <td>92.4</td>\n",
       "      <td>42.1</td>\n",
       "      <td>Central Midfielder</td>\n",
       "      <td>Saúl Ñíguez</td>\n",
       "      <td>Atletico de Madrid</td>\n",
       "      <td>2021</td>\n",
       "      <td>1</td>\n",
       "      <td>31</td>\n",
       "    </tr>\n",
       "    <tr>\n",
       "      <th>226639</th>\n",
       "      <td>16</td>\n",
       "      <td>2021-01-31T15:50:30.693</td>\n",
       "      <td>84.9</td>\n",
       "      <td>27.4</td>\n",
       "      <td>Striker</td>\n",
       "      <td>Álvaro Negredo</td>\n",
       "      <td>Cadiz CF</td>\n",
       "      <td>2021</td>\n",
       "      <td>1</td>\n",
       "      <td>31</td>\n",
       "    </tr>\n",
       "    <tr>\n",
       "      <th>226668</th>\n",
       "      <td>16</td>\n",
       "      <td>2021-01-31T16:49:04.930</td>\n",
       "      <td>90.5</td>\n",
       "      <td>51.0</td>\n",
       "      <td>Striker</td>\n",
       "      <td>Álvaro Negredo</td>\n",
       "      <td>Cadiz CF</td>\n",
       "      <td>2021</td>\n",
       "      <td>1</td>\n",
       "      <td>31</td>\n",
       "    </tr>\n",
       "  </tbody>\n",
       "</table>\n",
       "</div>"
      ],
      "text/plain": [
       "        type_id                timestamp     x     y       real_position  \\\n",
       "45000        16  2021-01-31T15:43:46.086  74.2  57.3             Striker   \n",
       "45014        16  2021-01-31T16:28:17.643  88.5  50.0             Striker   \n",
       "47574        16  2021-01-31T17:05:55.413  90.5  54.2  Central Midfielder   \n",
       "100067       16  2021-01-31T16:00:23.295  92.4  42.1  Central Midfielder   \n",
       "226639       16  2021-01-31T15:50:30.693  84.9  27.4             Striker   \n",
       "226668       16  2021-01-31T16:49:04.930  90.5  51.0             Striker   \n",
       "\n",
       "                    player                team  year  month  day  \n",
       "45000          Luis Suárez  Atletico de Madrid  2021      1   31  \n",
       "45014          Luis Suárez  Atletico de Madrid  2021      1   31  \n",
       "47574   Jorge Resurrección  Atletico de Madrid  2021      1   31  \n",
       "100067         Saúl Ñíguez  Atletico de Madrid  2021      1   31  \n",
       "226639      Álvaro Negredo            Cadiz CF  2021      1   31  \n",
       "226668      Álvaro Negredo            Cadiz CF  2021      1   31  "
      ]
     },
     "execution_count": 32,
     "metadata": {},
     "output_type": "execute_result"
    }
   ],
   "source": [
    "siete= df_cad_atm[['team','player','timestamp']]\n",
    "mask7= (\n",
    "    (df_cad_atm['type_id']==16)\n",
    ")\n",
    "df_goles_cad_atm= df_cad_atm[mask7]\n",
    "\n",
    "df_goles_cad_atm"
   ]
  },
  {
   "cell_type": "markdown",
   "id": "9a3b2c09-ee75-457b-9c3d-29c4c43a4a0b",
   "metadata": {
    "id": "9a3b2c09-ee75-457b-9c3d-29c4c43a4a0b"
   },
   "source": [
    "# 8. Representación en campo de los goles."
   ]
  },
  {
   "cell_type": "code",
   "execution_count": 35,
   "id": "um3JsRt6WuCb",
   "metadata": {
    "colab": {
     "base_uri": "https://localhost:8080/",
     "height": 317
    },
    "id": "um3JsRt6WuCb",
    "outputId": "32315e69-2e84-41b0-86eb-9aa9aec34d21"
   },
   "outputs": [
    {
     "data": {
      "text/plain": [
       "<Axes: title={'center': 'Goles Cadiz vs Atletico de Madrid'}, xlabel='x', ylabel='y'>"
      ]
     },
     "execution_count": 35,
     "metadata": {},
     "output_type": "execute_result"
    },
    {
     "data": {
      "image/png": "[encoded data removed]",
      "text/plain": [
       "<Figure size 640x480 with 1 Axes>"
      ]
     },
     "metadata": {},
     "output_type": "display_data"
    }
   ],
   "source": [
    "df_goles_cad= df_goles_cad_atm[df_goles_cad_atm['team']=='Cadiz CF']\n",
    "df_goles_atm= df_goles_cad_atm[df_goles_cad_atm['team']=='Atletico de Madrid']\n",
    "\n",
    "color_campo = '#000000'\n",
    "ax_campo = pintar_campo(color_campo) \n",
    "ax_campo.set_title(\"Goles Cadiz vs Atletico de Madrid\",\n",
    "             fontsize=20)\n",
    "\n",
    "\n",
    "\n",
    "df_goles_cad.plot(kind='scatter', x='x', y='y', color='yellow', ax = ax_campo)\n",
    "df_goles_atm.plot(kind='scatter', x='x', y='y', color='red', ax = ax_campo)"
   ]
  },
  {
   "cell_type": "markdown",
   "id": "a8eb5dbe-2a63-4036-827e-394389c15f15",
   "metadata": {
    "id": "a8eb5dbe-2a63-4036-827e-394389c15f15"
   },
   "source": [
    "# 9. Posición media de los jugadores del Atlético de Madrid.\n"
   ]
  },
  {
   "cell_type": "code",
   "execution_count": 50,
   "id": "zuTjnoYMlqEA",
   "metadata": {
    "colab": {
     "base_uri": "https://localhost:8080/",
     "height": 419
    },
    "id": "zuTjnoYMlqEA",
    "outputId": "7527006e-be66-49c3-e8f0-9fe1c2291a25"
   },
   "outputs": [
    {
     "data": {
      "text/html": [
       "<div>\n",
       "<style scoped>\n",
       "    .dataframe tbody tr th:only-of-type {\n",
       "        vertical-align: middle;\n",
       "    }\n",
       "\n",
       "    .dataframe tbody tr th {\n",
       "        vertical-align: top;\n",
       "    }\n",
       "\n",
       "    .dataframe thead th {\n",
       "        text-align: right;\n",
       "    }\n",
       "</style>\n",
       "<table border=\"1\" class=\"dataframe\">\n",
       "  <thead>\n",
       "    <tr style=\"text-align: right;\">\n",
       "      <th></th>\n",
       "      <th>type_id</th>\n",
       "      <th>timestamp</th>\n",
       "      <th>x</th>\n",
       "      <th>y</th>\n",
       "      <th>real_position</th>\n",
       "      <th>player</th>\n",
       "      <th>team</th>\n",
       "      <th>year</th>\n",
       "      <th>month</th>\n",
       "      <th>day</th>\n",
       "    </tr>\n",
       "  </thead>\n",
       "  <tbody>\n",
       "    <tr>\n",
       "      <th>44990</th>\n",
       "      <td>67</td>\n",
       "      <td>2021-01-31T15:25:30.253</td>\n",
       "      <td>75.4</td>\n",
       "      <td>50.6</td>\n",
       "      <td>Striker</td>\n",
       "      <td>Luis Suárez</td>\n",
       "      <td>Atletico de Madrid</td>\n",
       "      <td>2021</td>\n",
       "      <td>1</td>\n",
       "      <td>31</td>\n",
       "    </tr>\n",
       "    <tr>\n",
       "      <th>44991</th>\n",
       "      <td>1</td>\n",
       "      <td>2021-01-31T15:25:30.262</td>\n",
       "      <td>76.4</td>\n",
       "      <td>48.7</td>\n",
       "      <td>Striker</td>\n",
       "      <td>Luis Suárez</td>\n",
       "      <td>Atletico de Madrid</td>\n",
       "      <td>2021</td>\n",
       "      <td>1</td>\n",
       "      <td>31</td>\n",
       "    </tr>\n",
       "    <tr>\n",
       "      <th>44992</th>\n",
       "      <td>1</td>\n",
       "      <td>2021-01-31T15:26:48.440</td>\n",
       "      <td>33.6</td>\n",
       "      <td>4.0</td>\n",
       "      <td>Striker</td>\n",
       "      <td>Luis Suárez</td>\n",
       "      <td>Atletico de Madrid</td>\n",
       "      <td>2021</td>\n",
       "      <td>1</td>\n",
       "      <td>31</td>\n",
       "    </tr>\n",
       "    <tr>\n",
       "      <th>44993</th>\n",
       "      <td>1</td>\n",
       "      <td>2021-01-31T15:26:50.742</td>\n",
       "      <td>35.1</td>\n",
       "      <td>1.3</td>\n",
       "      <td>Striker</td>\n",
       "      <td>Luis Suárez</td>\n",
       "      <td>Atletico de Madrid</td>\n",
       "      <td>2021</td>\n",
       "      <td>1</td>\n",
       "      <td>31</td>\n",
       "    </tr>\n",
       "    <tr>\n",
       "      <th>44994</th>\n",
       "      <td>1</td>\n",
       "      <td>2021-01-31T15:27:09.878</td>\n",
       "      <td>67.0</td>\n",
       "      <td>37.1</td>\n",
       "      <td>Striker</td>\n",
       "      <td>Luis Suárez</td>\n",
       "      <td>Atletico de Madrid</td>\n",
       "      <td>2021</td>\n",
       "      <td>1</td>\n",
       "      <td>31</td>\n",
       "    </tr>\n",
       "    <tr>\n",
       "      <th>...</th>\n",
       "      <td>...</td>\n",
       "      <td>...</td>\n",
       "      <td>...</td>\n",
       "      <td>...</td>\n",
       "      <td>...</td>\n",
       "      <td>...</td>\n",
       "      <td>...</td>\n",
       "      <td>...</td>\n",
       "      <td>...</td>\n",
       "      <td>...</td>\n",
       "    </tr>\n",
       "    <tr>\n",
       "      <th>596752</th>\n",
       "      <td>12</td>\n",
       "      <td>2021-01-31T17:07:21.780</td>\n",
       "      <td>20.0</td>\n",
       "      <td>8.5</td>\n",
       "      <td>Attacking Midfielder</td>\n",
       "      <td>Héctor Herrera</td>\n",
       "      <td>Atletico de Madrid</td>\n",
       "      <td>2021</td>\n",
       "      <td>1</td>\n",
       "      <td>31</td>\n",
       "    </tr>\n",
       "    <tr>\n",
       "      <th>596753</th>\n",
       "      <td>5</td>\n",
       "      <td>2021-01-31T17:07:22.767</td>\n",
       "      <td>19.8</td>\n",
       "      <td>-1.2</td>\n",
       "      <td>Attacking Midfielder</td>\n",
       "      <td>Héctor Herrera</td>\n",
       "      <td>Atletico de Madrid</td>\n",
       "      <td>2021</td>\n",
       "      <td>1</td>\n",
       "      <td>31</td>\n",
       "    </tr>\n",
       "    <tr>\n",
       "      <th>596754</th>\n",
       "      <td>12</td>\n",
       "      <td>2021-01-31T17:07:48.598</td>\n",
       "      <td>14.3</td>\n",
       "      <td>59.0</td>\n",
       "      <td>Attacking Midfielder</td>\n",
       "      <td>Héctor Herrera</td>\n",
       "      <td>Atletico de Madrid</td>\n",
       "      <td>2021</td>\n",
       "      <td>1</td>\n",
       "      <td>31</td>\n",
       "    </tr>\n",
       "    <tr>\n",
       "      <th>596755</th>\n",
       "      <td>1</td>\n",
       "      <td>2021-01-31T17:12:45.163</td>\n",
       "      <td>79.6</td>\n",
       "      <td>92.1</td>\n",
       "      <td>Attacking Midfielder</td>\n",
       "      <td>Héctor Herrera</td>\n",
       "      <td>Atletico de Madrid</td>\n",
       "      <td>2021</td>\n",
       "      <td>1</td>\n",
       "      <td>31</td>\n",
       "    </tr>\n",
       "    <tr>\n",
       "      <th>596756</th>\n",
       "      <td>1</td>\n",
       "      <td>2021-01-31T17:12:47.982</td>\n",
       "      <td>78.4</td>\n",
       "      <td>96.3</td>\n",
       "      <td>Attacking Midfielder</td>\n",
       "      <td>Héctor Herrera</td>\n",
       "      <td>Atletico de Madrid</td>\n",
       "      <td>2021</td>\n",
       "      <td>1</td>\n",
       "      <td>31</td>\n",
       "    </tr>\n",
       "  </tbody>\n",
       "</table>\n",
       "<p>930 rows × 10 columns</p>\n",
       "</div>"
      ],
      "text/plain": [
       "        type_id                timestamp     x     y         real_position  \\\n",
       "44990        67  2021-01-31T15:25:30.253  75.4  50.6               Striker   \n",
       "44991         1  2021-01-31T15:25:30.262  76.4  48.7               Striker   \n",
       "44992         1  2021-01-31T15:26:48.440  33.6   4.0               Striker   \n",
       "44993         1  2021-01-31T15:26:50.742  35.1   1.3               Striker   \n",
       "44994         1  2021-01-31T15:27:09.878  67.0  37.1               Striker   \n",
       "...         ...                      ...   ...   ...                   ...   \n",
       "596752       12  2021-01-31T17:07:21.780  20.0   8.5  Attacking Midfielder   \n",
       "596753        5  2021-01-31T17:07:22.767  19.8  -1.2  Attacking Midfielder   \n",
       "596754       12  2021-01-31T17:07:48.598  14.3  59.0  Attacking Midfielder   \n",
       "596755        1  2021-01-31T17:12:45.163  79.6  92.1  Attacking Midfielder   \n",
       "596756        1  2021-01-31T17:12:47.982  78.4  96.3  Attacking Midfielder   \n",
       "\n",
       "                player                team  year  month  day  \n",
       "44990      Luis Suárez  Atletico de Madrid  2021      1   31  \n",
       "44991      Luis Suárez  Atletico de Madrid  2021      1   31  \n",
       "44992      Luis Suárez  Atletico de Madrid  2021      1   31  \n",
       "44993      Luis Suárez  Atletico de Madrid  2021      1   31  \n",
       "44994      Luis Suárez  Atletico de Madrid  2021      1   31  \n",
       "...                ...                 ...   ...    ...  ...  \n",
       "596752  Héctor Herrera  Atletico de Madrid  2021      1   31  \n",
       "596753  Héctor Herrera  Atletico de Madrid  2021      1   31  \n",
       "596754  Héctor Herrera  Atletico de Madrid  2021      1   31  \n",
       "596755  Héctor Herrera  Atletico de Madrid  2021      1   31  \n",
       "596756  Héctor Herrera  Atletico de Madrid  2021      1   31  \n",
       "\n",
       "[930 rows x 10 columns]"
      ]
     },
     "execution_count": 50,
     "metadata": {},
     "output_type": "execute_result"
    }
   ],
   "source": [
    "mask9=(\n",
    "    df_cad_atm['team']=='Atletico de Madrid'\n",
    ")\n",
    "\n",
    "df_atm= df_cad_atm[mask9]\n",
    "\n",
    "df_atm"
   ]
  },
  {
   "cell_type": "code",
   "execution_count": 54,
   "id": "f138ac82-9667-4859-8c7d-ddc47408d6cb",
   "metadata": {},
   "outputs": [
    {
     "data": {
      "text/html": [
       "<div>\n",
       "<style scoped>\n",
       "    .dataframe tbody tr th:only-of-type {\n",
       "        vertical-align: middle;\n",
       "    }\n",
       "\n",
       "    .dataframe tbody tr th {\n",
       "        vertical-align: top;\n",
       "    }\n",
       "\n",
       "    .dataframe thead th {\n",
       "        text-align: right;\n",
       "    }\n",
       "</style>\n",
       "<table border=\"1\" class=\"dataframe\">\n",
       "  <thead>\n",
       "    <tr style=\"text-align: right;\">\n",
       "      <th></th>\n",
       "      <th>type_id</th>\n",
       "      <th>x</th>\n",
       "      <th>y</th>\n",
       "      <th>year</th>\n",
       "      <th>month</th>\n",
       "      <th>day</th>\n",
       "    </tr>\n",
       "    <tr>\n",
       "      <th>player</th>\n",
       "      <th></th>\n",
       "      <th></th>\n",
       "      <th></th>\n",
       "      <th></th>\n",
       "      <th></th>\n",
       "      <th></th>\n",
       "    </tr>\n",
       "  </thead>\n",
       "  <tbody>\n",
       "    <tr>\n",
       "      <th>Felipe Augusto de Almeida Monteiro</th>\n",
       "      <td>12.5</td>\n",
       "      <td>31.4</td>\n",
       "      <td>63.9</td>\n",
       "      <td>2021.0</td>\n",
       "      <td>1.0</td>\n",
       "      <td>31.0</td>\n",
       "    </tr>\n",
       "    <tr>\n",
       "      <th>Geoffrey Kondogbia</th>\n",
       "      <td>31.1</td>\n",
       "      <td>18.2</td>\n",
       "      <td>41.3</td>\n",
       "      <td>2021.0</td>\n",
       "      <td>1.0</td>\n",
       "      <td>31.0</td>\n",
       "    </tr>\n",
       "    <tr>\n",
       "      <th>Héctor Herrera</th>\n",
       "      <td>8.3</td>\n",
       "      <td>35.4</td>\n",
       "      <td>42.4</td>\n",
       "      <td>2021.0</td>\n",
       "      <td>1.0</td>\n",
       "      <td>31.0</td>\n",
       "    </tr>\n",
       "    <tr>\n",
       "      <th>Jan Oblak</th>\n",
       "      <td>13.5</td>\n",
       "      <td>9.5</td>\n",
       "      <td>47.6</td>\n",
       "      <td>2021.0</td>\n",
       "      <td>1.0</td>\n",
       "      <td>31.0</td>\n",
       "    </tr>\n",
       "    <tr>\n",
       "      <th>Jorge Resurrección</th>\n",
       "      <td>12.2</td>\n",
       "      <td>42.3</td>\n",
       "      <td>40.3</td>\n",
       "      <td>2021.0</td>\n",
       "      <td>1.0</td>\n",
       "      <td>31.0</td>\n",
       "    </tr>\n",
       "    <tr>\n",
       "      <th>José Giménez</th>\n",
       "      <td>10.1</td>\n",
       "      <td>31.9</td>\n",
       "      <td>62.3</td>\n",
       "      <td>2021.0</td>\n",
       "      <td>1.0</td>\n",
       "      <td>31.0</td>\n",
       "    </tr>\n",
       "    <tr>\n",
       "      <th>João Félix Sequeira</th>\n",
       "      <td>13.5</td>\n",
       "      <td>64.2</td>\n",
       "      <td>31.8</td>\n",
       "      <td>2021.0</td>\n",
       "      <td>1.0</td>\n",
       "      <td>31.0</td>\n",
       "    </tr>\n",
       "    <tr>\n",
       "      <th>Lucas Torreira</th>\n",
       "      <td>8.2</td>\n",
       "      <td>44.7</td>\n",
       "      <td>56.9</td>\n",
       "      <td>2021.0</td>\n",
       "      <td>1.0</td>\n",
       "      <td>31.0</td>\n",
       "    </tr>\n",
       "    <tr>\n",
       "      <th>Luis Suárez</th>\n",
       "      <td>12.7</td>\n",
       "      <td>61.5</td>\n",
       "      <td>49.6</td>\n",
       "      <td>2021.0</td>\n",
       "      <td>1.0</td>\n",
       "      <td>31.0</td>\n",
       "    </tr>\n",
       "    <tr>\n",
       "      <th>Marcos Llorente</th>\n",
       "      <td>14.7</td>\n",
       "      <td>45.2</td>\n",
       "      <td>22.0</td>\n",
       "      <td>2021.0</td>\n",
       "      <td>1.0</td>\n",
       "      <td>31.0</td>\n",
       "    </tr>\n",
       "    <tr>\n",
       "      <th>Renan Augusto Lodi dos Santos</th>\n",
       "      <td>17.6</td>\n",
       "      <td>33.5</td>\n",
       "      <td>84.6</td>\n",
       "      <td>2021.0</td>\n",
       "      <td>1.0</td>\n",
       "      <td>31.0</td>\n",
       "    </tr>\n",
       "    <tr>\n",
       "      <th>Saúl Ñíguez</th>\n",
       "      <td>16.7</td>\n",
       "      <td>46.2</td>\n",
       "      <td>74.0</td>\n",
       "      <td>2021.0</td>\n",
       "      <td>1.0</td>\n",
       "      <td>31.0</td>\n",
       "    </tr>\n",
       "    <tr>\n",
       "      <th>Sime Vrsaljko</th>\n",
       "      <td>14.7</td>\n",
       "      <td>43.3</td>\n",
       "      <td>8.1</td>\n",
       "      <td>2021.0</td>\n",
       "      <td>1.0</td>\n",
       "      <td>31.0</td>\n",
       "    </tr>\n",
       "    <tr>\n",
       "      <th>Stefan Savic</th>\n",
       "      <td>10.0</td>\n",
       "      <td>31.9</td>\n",
       "      <td>18.8</td>\n",
       "      <td>2021.0</td>\n",
       "      <td>1.0</td>\n",
       "      <td>31.0</td>\n",
       "    </tr>\n",
       "    <tr>\n",
       "      <th>Thomas Lemar</th>\n",
       "      <td>19.1</td>\n",
       "      <td>50.9</td>\n",
       "      <td>66.9</td>\n",
       "      <td>2021.0</td>\n",
       "      <td>1.0</td>\n",
       "      <td>31.0</td>\n",
       "    </tr>\n",
       "    <tr>\n",
       "      <th>Ángel Correa</th>\n",
       "      <td>24.1</td>\n",
       "      <td>46.3</td>\n",
       "      <td>21.3</td>\n",
       "      <td>2021.0</td>\n",
       "      <td>1.0</td>\n",
       "      <td>31.0</td>\n",
       "    </tr>\n",
       "  </tbody>\n",
       "</table>\n",
       "</div>"
      ],
      "text/plain": [
       "                                    type_id     x     y    year  month   day\n",
       "player                                                                      \n",
       "Felipe Augusto de Almeida Monteiro     12.5  31.4  63.9  2021.0    1.0  31.0\n",
       "Geoffrey Kondogbia                     31.1  18.2  41.3  2021.0    1.0  31.0\n",
       "Héctor Herrera                          8.3  35.4  42.4  2021.0    1.0  31.0\n",
       "Jan Oblak                              13.5   9.5  47.6  2021.0    1.0  31.0\n",
       "Jorge Resurrección                     12.2  42.3  40.3  2021.0    1.0  31.0\n",
       "José Giménez                           10.1  31.9  62.3  2021.0    1.0  31.0\n",
       "João Félix Sequeira                    13.5  64.2  31.8  2021.0    1.0  31.0\n",
       "Lucas Torreira                          8.2  44.7  56.9  2021.0    1.0  31.0\n",
       "Luis Suárez                            12.7  61.5  49.6  2021.0    1.0  31.0\n",
       "Marcos Llorente                        14.7  45.2  22.0  2021.0    1.0  31.0\n",
       "Renan Augusto Lodi dos Santos          17.6  33.5  84.6  2021.0    1.0  31.0\n",
       "Saúl Ñíguez                            16.7  46.2  74.0  2021.0    1.0  31.0\n",
       "Sime Vrsaljko                          14.7  43.3   8.1  2021.0    1.0  31.0\n",
       "Stefan Savic                           10.0  31.9  18.8  2021.0    1.0  31.0\n",
       "Thomas Lemar                           19.1  50.9  66.9  2021.0    1.0  31.0\n",
       "Ángel Correa                           24.1  46.3  21.3  2021.0    1.0  31.0"
      ]
     },
     "execution_count": 54,
     "metadata": {},
     "output_type": "execute_result"
    }
   ],
   "source": [
    "df_atm_jugadores = df_atm.select_dtypes(include=['number']).groupby(df_atm['player']).mean().round(1)\n",
    "df_atm_jugadores"
   ]
  },
  {
   "cell_type": "code",
   "execution_count": 56,
   "id": "8JTB78EUtY_7",
   "metadata": {
    "colab": {
     "base_uri": "https://localhost:8080/",
     "height": 317
    },
    "id": "8JTB78EUtY_7",
    "outputId": "4bb8902a-72ad-4e19-871b-b3ae167e41f8"
   },
   "outputs": [
    {
     "data": {
      "text/plain": [
       "<Axes: title={'center': 'Posicion media de los jugadores del Atletico de Madrid'}, xlabel='x', ylabel='y'>"
      ]
     },
     "execution_count": 56,
     "metadata": {},
     "output_type": "execute_result"
    },
    {
     "data": {
      "image/png": "[encoded data removed]",
      "text/plain": [
       "<Figure size 640x480 with 1 Axes>"
      ]
     },
     "metadata": {},
     "output_type": "display_data"
    }
   ],
   "source": [
    "color_campo = '#000000'\n",
    "ax_campo = pintar_campo(color_campo) \n",
    "ax_campo.set_title(\"Posicion media de los jugadores del Atletico de Madrid\",\n",
    "             fontsize=20)\n",
    "\n",
    "df_atm_jugadores.plot(kind='scatter', x='x', y='y', color='red', ax = ax_campo)\n"
   ]
  },
  {
   "cell_type": "markdown",
   "id": "bfe61453-a659-4d4d-9e8e-29c3ed3577f1",
   "metadata": {
    "id": "bfe61453-a659-4d4d-9e8e-29c3ed3577f1"
   },
   "source": [
    "## 10. Porcentaje de eventos generado en cada una de las siguientes zonas:\n",
    "Zonas: \n",
    " - x <= 17 (zona1)\n",
    " - x > 17 y x <=50 (zona2)\n",
    " - x>50 y x <=83 (zona3)\n",
    " - x>83 (zona4). "
   ]
  },
  {
   "cell_type": "code",
   "execution_count": 60,
   "id": "wYLtLwZZ85Su",
   "metadata": {
    "colab": {
     "base_uri": "https://localhost:8080/",
     "height": 419
    },
    "id": "wYLtLwZZ85Su",
    "outputId": "9b7e6515-8b8b-4ada-9e64-4f54f99d37ef"
   },
   "outputs": [
    {
     "data": {
      "text/html": [
       "<div>\n",
       "<style scoped>\n",
       "    .dataframe tbody tr th:only-of-type {\n",
       "        vertical-align: middle;\n",
       "    }\n",
       "\n",
       "    .dataframe tbody tr th {\n",
       "        vertical-align: top;\n",
       "    }\n",
       "\n",
       "    .dataframe thead th {\n",
       "        text-align: right;\n",
       "    }\n",
       "</style>\n",
       "<table border=\"1\" class=\"dataframe\">\n",
       "  <thead>\n",
       "    <tr style=\"text-align: right;\">\n",
       "      <th></th>\n",
       "      <th>type_id</th>\n",
       "      <th>timestamp</th>\n",
       "      <th>x</th>\n",
       "      <th>y</th>\n",
       "      <th>real_position</th>\n",
       "      <th>player</th>\n",
       "      <th>team</th>\n",
       "      <th>year</th>\n",
       "      <th>month</th>\n",
       "      <th>day</th>\n",
       "    </tr>\n",
       "  </thead>\n",
       "  <tbody>\n",
       "    <tr>\n",
       "      <th>215802</th>\n",
       "      <td>1</td>\n",
       "      <td>2021-01-31T15:16:28.598</td>\n",
       "      <td>29.9</td>\n",
       "      <td>53.3</td>\n",
       "      <td>Central Defender</td>\n",
       "      <td>Juan Torres Ruiz</td>\n",
       "      <td>Cadiz CF</td>\n",
       "      <td>2021</td>\n",
       "      <td>1</td>\n",
       "      <td>31</td>\n",
       "    </tr>\n",
       "    <tr>\n",
       "      <th>215803</th>\n",
       "      <td>1</td>\n",
       "      <td>2021-01-31T15:16:41.813</td>\n",
       "      <td>34.2</td>\n",
       "      <td>62.6</td>\n",
       "      <td>Central Defender</td>\n",
       "      <td>Juan Torres Ruiz</td>\n",
       "      <td>Cadiz CF</td>\n",
       "      <td>2021</td>\n",
       "      <td>1</td>\n",
       "      <td>31</td>\n",
       "    </tr>\n",
       "    <tr>\n",
       "      <th>215804</th>\n",
       "      <td>1</td>\n",
       "      <td>2021-01-31T15:18:56.254</td>\n",
       "      <td>54.2</td>\n",
       "      <td>96.3</td>\n",
       "      <td>Central Defender</td>\n",
       "      <td>Juan Torres Ruiz</td>\n",
       "      <td>Cadiz CF</td>\n",
       "      <td>2021</td>\n",
       "      <td>1</td>\n",
       "      <td>31</td>\n",
       "    </tr>\n",
       "    <tr>\n",
       "      <th>215805</th>\n",
       "      <td>67</td>\n",
       "      <td>2021-01-31T15:19:38.037</td>\n",
       "      <td>34.8</td>\n",
       "      <td>69.7</td>\n",
       "      <td>Central Defender</td>\n",
       "      <td>Juan Torres Ruiz</td>\n",
       "      <td>Cadiz CF</td>\n",
       "      <td>2021</td>\n",
       "      <td>1</td>\n",
       "      <td>31</td>\n",
       "    </tr>\n",
       "    <tr>\n",
       "      <th>215806</th>\n",
       "      <td>8</td>\n",
       "      <td>2021-01-31T15:19:38.041</td>\n",
       "      <td>33.8</td>\n",
       "      <td>76.4</td>\n",
       "      <td>Central Defender</td>\n",
       "      <td>Juan Torres Ruiz</td>\n",
       "      <td>Cadiz CF</td>\n",
       "      <td>2021</td>\n",
       "      <td>1</td>\n",
       "      <td>31</td>\n",
       "    </tr>\n",
       "    <tr>\n",
       "      <th>...</th>\n",
       "      <td>...</td>\n",
       "      <td>...</td>\n",
       "      <td>...</td>\n",
       "      <td>...</td>\n",
       "      <td>...</td>\n",
       "      <td>...</td>\n",
       "      <td>...</td>\n",
       "      <td>...</td>\n",
       "      <td>...</td>\n",
       "      <td>...</td>\n",
       "    </tr>\n",
       "    <tr>\n",
       "      <th>644613</th>\n",
       "      <td>1</td>\n",
       "      <td>2021-01-31T17:01:08.314</td>\n",
       "      <td>62.7</td>\n",
       "      <td>21.0</td>\n",
       "      <td>Striker</td>\n",
       "      <td>Ivan Saponjic</td>\n",
       "      <td>Cadiz CF</td>\n",
       "      <td>2021</td>\n",
       "      <td>1</td>\n",
       "      <td>31</td>\n",
       "    </tr>\n",
       "    <tr>\n",
       "      <th>644614</th>\n",
       "      <td>1</td>\n",
       "      <td>2021-01-31T17:02:19.330</td>\n",
       "      <td>65.9</td>\n",
       "      <td>41.2</td>\n",
       "      <td>Striker</td>\n",
       "      <td>Ivan Saponjic</td>\n",
       "      <td>Cadiz CF</td>\n",
       "      <td>2021</td>\n",
       "      <td>1</td>\n",
       "      <td>31</td>\n",
       "    </tr>\n",
       "    <tr>\n",
       "      <th>644615</th>\n",
       "      <td>44</td>\n",
       "      <td>2021-01-31T17:02:45.817</td>\n",
       "      <td>87.7</td>\n",
       "      <td>44.6</td>\n",
       "      <td>Striker</td>\n",
       "      <td>Ivan Saponjic</td>\n",
       "      <td>Cadiz CF</td>\n",
       "      <td>2021</td>\n",
       "      <td>1</td>\n",
       "      <td>31</td>\n",
       "    </tr>\n",
       "    <tr>\n",
       "      <th>644616</th>\n",
       "      <td>61</td>\n",
       "      <td>2021-01-31T17:02:45.954</td>\n",
       "      <td>87.6</td>\n",
       "      <td>43.9</td>\n",
       "      <td>Striker</td>\n",
       "      <td>Ivan Saponjic</td>\n",
       "      <td>Cadiz CF</td>\n",
       "      <td>2021</td>\n",
       "      <td>1</td>\n",
       "      <td>31</td>\n",
       "    </tr>\n",
       "    <tr>\n",
       "      <th>644617</th>\n",
       "      <td>50</td>\n",
       "      <td>2021-01-31T17:10:00.078</td>\n",
       "      <td>68.4</td>\n",
       "      <td>46.6</td>\n",
       "      <td>Striker</td>\n",
       "      <td>Ivan Saponjic</td>\n",
       "      <td>Cadiz CF</td>\n",
       "      <td>2021</td>\n",
       "      <td>1</td>\n",
       "      <td>31</td>\n",
       "    </tr>\n",
       "  </tbody>\n",
       "</table>\n",
       "<p>874 rows × 10 columns</p>\n",
       "</div>"
      ],
      "text/plain": [
       "        type_id                timestamp     x     y     real_position  \\\n",
       "215802        1  2021-01-31T15:16:28.598  29.9  53.3  Central Defender   \n",
       "215803        1  2021-01-31T15:16:41.813  34.2  62.6  Central Defender   \n",
       "215804        1  2021-01-31T15:18:56.254  54.2  96.3  Central Defender   \n",
       "215805       67  2021-01-31T15:19:38.037  34.8  69.7  Central Defender   \n",
       "215806        8  2021-01-31T15:19:38.041  33.8  76.4  Central Defender   \n",
       "...         ...                      ...   ...   ...               ...   \n",
       "644613        1  2021-01-31T17:01:08.314  62.7  21.0           Striker   \n",
       "644614        1  2021-01-31T17:02:19.330  65.9  41.2           Striker   \n",
       "644615       44  2021-01-31T17:02:45.817  87.7  44.6           Striker   \n",
       "644616       61  2021-01-31T17:02:45.954  87.6  43.9           Striker   \n",
       "644617       50  2021-01-31T17:10:00.078  68.4  46.6           Striker   \n",
       "\n",
       "                  player      team  year  month  day  \n",
       "215802  Juan Torres Ruiz  Cadiz CF  2021      1   31  \n",
       "215803  Juan Torres Ruiz  Cadiz CF  2021      1   31  \n",
       "215804  Juan Torres Ruiz  Cadiz CF  2021      1   31  \n",
       "215805  Juan Torres Ruiz  Cadiz CF  2021      1   31  \n",
       "215806  Juan Torres Ruiz  Cadiz CF  2021      1   31  \n",
       "...                  ...       ...   ...    ...  ...  \n",
       "644613     Ivan Saponjic  Cadiz CF  2021      1   31  \n",
       "644614     Ivan Saponjic  Cadiz CF  2021      1   31  \n",
       "644615     Ivan Saponjic  Cadiz CF  2021      1   31  \n",
       "644616     Ivan Saponjic  Cadiz CF  2021      1   31  \n",
       "644617     Ivan Saponjic  Cadiz CF  2021      1   31  \n",
       "\n",
       "[874 rows x 10 columns]"
      ]
     },
     "execution_count": 60,
     "metadata": {},
     "output_type": "execute_result"
    }
   ],
   "source": [
    "mask10=(\n",
    "    df_cad_atm['team']=='Cadiz CF'\n",
    ")\n",
    "\n",
    "df_cad= df_cad_atm[mask10]\n",
    "\n",
    "df_cad"
   ]
  },
  {
   "cell_type": "code",
   "execution_count": 66,
   "id": "R-nH250CLuD3",
   "metadata": {
    "colab": {
     "base_uri": "https://localhost:8080/"
    },
    "id": "R-nH250CLuD3",
    "outputId": "2f4fad73-fc8d-41b8-8880-52f3f053599c"
   },
   "outputs": [
    {
     "name": "stdout",
     "output_type": "stream",
     "text": [
      "Cádiz -> Zona1: 15.9 % Zona2: 31.35 % Zona3: 44.16 % Zona4: 8.58 %\n"
     ]
    }
   ],
   "source": [
    "Zona1= df_cad[df_cad['x']<=17].count() / df_cad.count() *100\n",
    "Zona2= df_cad[(df_cad['x']>17) & (df_cad['x']<=50)].count() / df_cad.count() *100\n",
    "Zona3= df_cad[(df_cad['x']>50) & (df_cad['x']<=83)].count() / df_cad.count() *100\n",
    "Zona4= df_cad[df_cad['x']>83].count() / df_cad.count() *100\n",
    "\n",
    "print(\"Cádiz -> \" \"Zona1:\", Zona1['x'].round(2), \"%\" , \n",
    "\"Zona2:\", Zona2['x'].round(2), \"%\" ,\n",
    "\"Zona3:\", Zona3['x'].round(2), \"%\" ,\n",
    "\"Zona4:\", Zona4['x'].round(2), \"%\")\n"
   ]
  },
  {
   "cell_type": "code",
   "execution_count": 68,
   "id": "_KVL2IThUVdY",
   "metadata": {
    "colab": {
     "base_uri": "https://localhost:8080/"
    },
    "id": "_KVL2IThUVdY",
    "outputId": "88b25619-97f1-49a3-daa4-09bbd31da2d6"
   },
   "outputs": [
    {
     "name": "stdout",
     "output_type": "stream",
     "text": [
      "Atlético -> Zona1: 19.25 % Zona2: 46.45 % Zona3: 27.53 % Zona4: 6.77 %\n"
     ]
    }
   ],
   "source": [
    "Zona1= df_atm[df_atm['x']<=17].count() / df_atm.count() *100\n",
    "Zona2= df_atm[(df_atm['x']>17) & (df_atm['x']<=50)].count() / df_atm.count() *100\n",
    "Zona3= df_atm[(df_atm['x']>50) & (df_atm['x']<=83)].count() / df_atm.count() *100\n",
    "Zona4= df_atm[df_atm['x']>83].count() / df_atm.count() *100\n",
    "\n",
    "print(\"Atlético -> \" \"Zona1:\", Zona1['x'].round(2), \"%\" , \n",
    "\"Zona2:\", Zona2['x'].round(2), \"%\" ,\n",
    "\"Zona3:\", Zona3['x'].round(2), \"%\" ,\n",
    "\"Zona4:\", Zona4['x'].round(2), \"%\")"
   ]
  },
  {
   "cell_type": "markdown",
   "id": "15169951-4945-4331-967f-c135f77a2c02",
   "metadata": {
    "id": "15169951-4945-4331-967f-c135f77a2c02"
   },
   "source": [
    "# 11. Eventos en los que participó **Luis Suárez** por zonas"
   ]
  },
  {
   "cell_type": "code",
   "execution_count": 71,
   "id": "jRnESYwKU-4v",
   "metadata": {
    "id": "jRnESYwKU-4v"
   },
   "outputs": [],
   "source": [
    "df_luis_suarez= df_atm[df_atm['player']== \"Luis Suárez\"]\n",
    "df_luis_suarez_Zona1= df_luis_suarez[df_luis_suarez['x']<=17]\n",
    "df_luis_suarez_Zona2= df_luis_suarez[(df_luis_suarez['x']>=17) & (df_luis_suarez['x']<=50)]\n",
    "df_luis_suarez_Zona3= df_luis_suarez[(df_luis_suarez['x']>=50) & (df_luis_suarez['x']<=83)]\n",
    "df_luis_suarez_Zona4= df_luis_suarez[df_luis_suarez['x']>83]"
   ]
  },
  {
   "cell_type": "code",
   "execution_count": 73,
   "id": "5EY2Yc_6UqPP",
   "metadata": {
    "colab": {
     "base_uri": "https://localhost:8080/",
     "height": 317
    },
    "id": "5EY2Yc_6UqPP",
    "outputId": "7ebf466f-095a-43b6-bea1-e087eb6d8270"
   },
   "outputs": [
    {
     "data": {
      "text/plain": [
       "<Axes: title={'center': 'Eventos Luis Suárez'}, xlabel='x', ylabel='y'>"
      ]
     },
     "execution_count": 73,
     "metadata": {},
     "output_type": "execute_result"
    },
    {
     "data": {
      "image/png": "[encoded data removed]",
      "text/plain": [
       "<Figure size 640x480 with 1 Axes>"
      ]
     },
     "metadata": {},
     "output_type": "display_data"
    }
   ],
   "source": [
    "color_campo = '#000000'\n",
    "ax_campo = pintar_campo(color_campo) \n",
    "ax_campo.set_title(\"Eventos Luis Suárez\",\n",
    "             fontsize=20)\n",
    "\n",
    "df_luis_suarez_Zona1.plot(kind='scatter', x='x', y='y', color='blue', ax = ax_campo)\n",
    "df_luis_suarez_Zona2.plot(kind='scatter', x='x', y='y', color='green', ax = ax_campo)\n",
    "df_luis_suarez_Zona3.plot(kind='scatter', x='x', y='y', color='purple', ax = ax_campo)\n",
    "df_luis_suarez_Zona4.plot(kind='scatter', x='x', y='y', color='red', ax = ax_campo)"
   ]
  },
  {
   "cell_type": "markdown",
   "id": "TX1U-dJ3SjGj",
   "metadata": {
    "id": "TX1U-dJ3SjGj"
   },
   "source": [
    "# 12. Pases por equipo\n"
   ]
  },
  {
   "cell_type": "code",
   "execution_count": 78,
   "id": "gc4oCVhQZemG",
   "metadata": {
    "colab": {
     "base_uri": "https://localhost:8080/",
     "height": 317
    },
    "id": "gc4oCVhQZemG",
    "outputId": "3866a12e-1131-45a1-b691-e5d2915c4f66"
   },
   "outputs": [
    {
     "data": {
      "text/plain": [
       "<Axes: title={'center': 'Pases Atletico de Madrid'}, xlabel='x', ylabel='y'>"
      ]
     },
     "execution_count": 78,
     "metadata": {},
     "output_type": "execute_result"
    },
    {
     "data": {
      "image/png": "[encoded data removed]",
      "text/plain": [
       "<Figure size 640x480 with 1 Axes>"
      ]
     },
     "metadata": {},
     "output_type": "display_data"
    }
   ],
   "source": [
    "mask12= (\n",
    "      (df_atm['type_id']==1)\n",
    ")  \n",
    "\n",
    "df_atm_pases = df_atm[mask12]\n",
    "\n",
    "df_atm_pases_Zona1= df_atm_pases[df_atm_pases['x']<=17]\n",
    "df_atm_pases_Zona2= df_atm_pases[(df_atm_pases['x']>=17) & (df_atm_pases['x']<=50)]\n",
    "df_atm_pases_Zona3= df_atm_pases[(df_atm_pases['x']>=50) & (df_atm_pases['x']<=83)]\n",
    "df_atm_pases_Zona4= df_atm_pases[df_atm_pases['x']>83]\n",
    "\n",
    "color_campo = '#000000'\n",
    "ax_campo = pintar_campo(color_campo) \n",
    "ax_campo.set_title(\"Pases Atletico de Madrid\",\n",
    "             fontsize=20)\n",
    "\n",
    "df_atm_pases_Zona1.plot(kind='scatter', x='x', y='y', color='blue', ax = ax_campo)\n",
    "df_atm_pases_Zona2.plot(kind='scatter', x='x', y='y', color='green', ax = ax_campo)\n",
    "df_atm_pases_Zona3.plot(kind='scatter', x='x', y='y', color='purple', ax = ax_campo)\n",
    "df_atm_pases_Zona4.plot(kind='scatter', x='x', y='y', color='red', ax = ax_campo)"
   ]
  },
  {
   "cell_type": "code",
   "execution_count": 82,
   "id": "6DsmJi0xQRdM",
   "metadata": {
    "colab": {
     "base_uri": "https://localhost:8080/",
     "height": 317
    },
    "id": "6DsmJi0xQRdM",
    "outputId": "f7cd942f-8446-4aab-ce34-a208c40fec8c"
   },
   "outputs": [
    {
     "data": {
      "text/plain": [
       "<Axes: title={'center': 'Pases Cadiz CF'}, xlabel='x', ylabel='y'>"
      ]
     },
     "execution_count": 82,
     "metadata": {},
     "output_type": "execute_result"
    },
    {
     "data": {
      "image/png": "[encoded data removed]",
      "text/plain": [
       "<Figure size 640x480 with 1 Axes>"
      ]
     },
     "metadata": {},
     "output_type": "display_data"
    }
   ],
   "source": [
    "mask13= (\n",
    "    (df_cad['type_id']==1)\n",
    ")\n",
    "df_cad_pases= df_cad[mask13]\n",
    "\n",
    "df_cad_pases_Zona1= df_cad_pases[df_cad_pases['x']<=17]\n",
    "df_cad_pases_Zona2= df_cad_pases[(df_cad_pases['x']>=17) & (df_cad_pases['x']<=50)]\n",
    "df_cad_pases_Zona3= df_cad_pases[(df_cad_pases['x']>=50) & (df_cad_pases['x']<=83)]\n",
    "df_cad_pases_Zona4= df_cad_pases[df_cad_pases['x']>83]\n",
    "\n",
    "color_campo = '#000000'\n",
    "ax_campo = pintar_campo(color_campo) \n",
    "ax_campo.set_title(\"Pases Cadiz CF\",\n",
    "             fontsize=20)\n",
    "\n",
    "df_cad_pases_Zona1.plot(kind='scatter', x='x', y='y', color='blue', ax = ax_campo)\n",
    "df_cad_pases_Zona2.plot(kind='scatter', x='x', y='y', color='green', ax = ax_campo)\n",
    "df_cad_pases_Zona3.plot(kind='scatter', x='x', y='y', color='purple', ax = ax_campo)\n",
    "df_cad_pases_Zona4.plot(kind='scatter', x='x', y='y', color='red', ax = ax_campo)"
   ]
  },
  {
   "cell_type": "markdown",
   "id": "dXnj7lTcSizB",
   "metadata": {
    "id": "dXnj7lTcSizB"
   },
   "source": [
    "# 13. Resumen de conclusiones \n",
    "- Raking goleadores: \n",
    "  - Como podemos ver en el primer punto del notebook, el máximo anotador fue Lionel Messi (30), en segundo lugar Luis Suárez (26), seguido de Karim Benzema (23), con el mismo número de dianas que Gerard Moreno (23) y cerrando este top cinco Youssef En-Nesyri (18)\n",
    "\n",
    "- Ranking equipos con más tarjetas:\n",
    "  - El equipo más amonestado en esta temporada resultó ser el Getafe (126), seguido del Celta de Vigo (107) y cerrando el top tres el Granada CF        (103). Mientras que el equipo menos amonestado fue el Real Madrid          (60).\n",
    "- Posición media de cada jugador del ATM:\n",
    "  - Observando la posición media de cada jugador del ATM, se puede observar claramente la formación habitual en aquella temporada a la que más recurrió el Cholo Simeone, formando con dos líneas de cuatro en la defensa y el centro del campo y con dos hombres en la referencia de ataque. El hecho de que se vea muy bien reflejado ese dibujo en el campo es un ejemplo de una de las características que destacan al ATM, esa organización en bloque con todo el equipo muy junto y dejando pocos espacios en las zonas centrales y entre líneas.\n",
    "- Porcentajes de eventos por zonas del ATM\n",
    "  - Como bien se puede observar en el notebook, la zona donde el ATM tuvo una mayor disposición de eventos con diferencia fue en la Zona 2, es decir en campo propio. Como he analizado en mi ejercicio 15 un gran número de estos eventos son pases (acciones ofensivas), señal que nos indica que en ataque el conjunto colchonero elaboró buena parte de su ofensiva desde esa zona del campo, pero también que en su fase defensiva fue una de las zonas donde mayor actividad se generó. Una característica también típica del conjunto colchonero, que destaca por su bloque medio donde deja a su rival iniciar con balón desde atrás y cierra filas a la altura de medio campo.\n",
    "- Porcentajes de eventos por zonas del CAD\n",
    "  - Para el Cádiz la disposición mayoritariamente también se mostró en la zona de medios, pero sobretodo en mayor medida en la Zona 3 es decir en campo rival. Observando la disposición de pases realizada en mi actividad número 15 podemos observar como junto con la Zona 2 donde se registra una gran actividad ofensiva es en dicha zona del campo teniendo mucha presencia por los carriles laterales, esto nos muestra como organizó el eequipo gaditano la ofensiva en este partido buscando mayormente los carriles exteriores para progresar con el balón, un factor que lo podemos relacionar con la conclusión que hemos sacado anteriormente en el apartado que hacia referencia a la posición media del conjunto colchonero, donde decíamos que se mostraba claramente como las posiciones buscaban cerrar los espacios interiores en la zona de medios dejando las zonas exteriores para que los rivales jugaran.\n"
   ]
  }
 ],
 "metadata": {
  "colab": {
   "provenance": []
  },
  "kernelspec": {
   "display_name": "Python 3 (ipykernel)",
   "language": "python",
   "name": "python3"
  },
  "language_info": {
   "codemirror_mode": {
    "name": "ipython",
    "version": 3
   },
   "file_extension": ".py",
   "mimetype": "text/x-python",
   "name": "python",
   "nbconvert_exporter": "python",
   "pygments_lexer": "ipython3",
   "version": "3.11.5"
  }
 },
 "nbformat": 4,
 "nbformat_minor": 5
}
